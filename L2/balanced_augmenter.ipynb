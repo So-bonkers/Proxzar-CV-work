{
 "cells": [
  {
   "cell_type": "code",
   "execution_count": 82,
   "metadata": {},
   "outputs": [],
   "source": [
    "import os\n",
    "import re\n",
    "import cv2\n",
    "import numpy as np"
   ]
  },
  {
   "cell_type": "code",
   "execution_count": 5,
   "metadata": {},
   "outputs": [],
   "source": [
    "def remove_files_with_regex(path, regex_pattern):\n",
    "    for root, dirs, files in os.walk(path):\n",
    "        for file in files:\n",
    "            if re.search(regex_pattern, file):\n",
    "                file_path = os.path.join(root, file)\n",
    "                os.remove(file_path)\n",
    "\n",
    "# Example usage\n",
    "path = r'C:\\Users\\kshubhan\\Downloads\\Proxzar-CV-work-updated\\Proxzar-CV-work-main\\scraped_zip\\Scrape_images_removed_products\\roofing\\flashings'\n",
    "regex_pattern = r'_image_(1[0-9]|0?[6-9]).jpg'\n",
    "remove_files_with_regex(path, regex_pattern)\n"
   ]
  },
  {
   "cell_type": "markdown",
   "metadata": {},
   "source": [
    "# Augmentation - 2x\n",
    "\n",
    "## Categories Eligible\n",
    "\n",
    "- commercial-insulation (scraped)\n",
    "- low-slope-metals (scraped)"
   ]
  },
  {
   "cell_type": "code",
   "execution_count": 65,
   "metadata": {},
   "outputs": [],
   "source": [
    "directory = r'C:\\Users\\kshubhan\\Downloads\\Proxzar-CV-work-updated\\Proxzar-CV-work-main\\scraped_zip\\roofing\\low-slope-metals'"
   ]
  },
  {
   "cell_type": "code",
   "execution_count": 66,
   "metadata": {},
   "outputs": [],
   "source": [
    "import os\n",
    "import cv2\n",
    "\n",
    "def normalize_images_in_directory(directory):\n",
    "    for root, dirs, files in os.walk(directory):\n",
    "        for file in files:\n",
    "            if file.endswith(\".jpg\"):\n",
    "                file_path = os.path.join(root, file)\n",
    "                image = cv2.imread(file_path)\n",
    "                normalized_image = cv2.normalize(image, None, alpha=0, beta=255, norm_type=cv2.NORM_MINMAX)\n",
    "                normalized_file_path = os.path.splitext(file_path)[0] + \"_normalized.jpg\"\n",
    "                cv2.imwrite(normalized_file_path, normalized_image)\n",
    "\n",
    "normalize_images_in_directory(directory)"
   ]
  },
  {
   "cell_type": "code",
   "execution_count": 67,
   "metadata": {},
   "outputs": [],
   "source": [
    "def resize_images_in_directory(directory, width, height):\n",
    "    for root, dirs, files in os.walk(directory):\n",
    "        for file in files:\n",
    "            if file.endswith(\".jpg\"):\n",
    "                file_path = os.path.join(root, file)\n",
    "                image = cv2.imread(file_path)\n",
    "                resized_image = cv2.resize(image, (width, height))\n",
    "                resized_file_path = os.path.splitext(file_path)[0] + \"_resized.jpg\"\n",
    "                cv2.imwrite(resized_file_path, resized_image)\n",
    "\n"
   ]
  },
  {
   "cell_type": "code",
   "execution_count": 68,
   "metadata": {},
   "outputs": [],
   "source": [
    "resize_images_in_directory(directory, 256, 256)"
   ]
  },
  {
   "cell_type": "code",
   "execution_count": 69,
   "metadata": {},
   "outputs": [],
   "source": [
    "def remove_files_except_resized(target_directory):\n",
    "    for root, dirs, files in os.walk(target_directory):\n",
    "        for file in files:\n",
    "            if not file.endswith(\"_resized.jpg\"):\n",
    "                file_path = os.path.join(root, file)\n",
    "                os.remove(file_path)\n",
    "\n",
    "remove_files_except_resized(directory)\n"
   ]
  },
  {
   "cell_type": "markdown",
   "metadata": {},
   "source": [
    "# Augmentation - 3x\n",
    "\n",
    "## Categories Eligible\n",
    "\n",
    "- skylights-windows (scraped) [done]\n",
    "- spray-foam-insulation (scraped) [done]"
   ]
  },
  {
   "cell_type": "code",
   "execution_count": 75,
   "metadata": {},
   "outputs": [],
   "source": [
    "directory = r'C:\\Users\\kshubhan\\Downloads\\Proxzar-CV-work-updated\\Proxzar-CV-work-main\\scraped_zip\\building-materials\\skylights-windows'"
   ]
  },
  {
   "cell_type": "code",
   "execution_count": 76,
   "metadata": {},
   "outputs": [],
   "source": [
    "def remove_files_except_resized(target_directory):\n",
    "    for root, dirs, files in os.walk(target_directory):\n",
    "        for file in files:\n",
    "            if not file.endswith(\"_resized.jpg\"):\n",
    "                file_path = os.path.join(root, file)\n",
    "                os.remove(file_path)"
   ]
  },
  {
   "cell_type": "code",
   "execution_count": 77,
   "metadata": {},
   "outputs": [],
   "source": [
    "def augment_images_in_directory(directory):\n",
    "    for root, dirs, files in os.walk(directory):\n",
    "        for file in files:\n",
    "            if file.endswith(\".jpg\"):\n",
    "                file_path = os.path.join(root, file)\n",
    "                image = cv2.imread(file_path)\n",
    "                \n",
    "                # Normalization\n",
    "                normalized_image = cv2.normalize(image, None, alpha=0, beta=255, norm_type=cv2.NORM_MINMAX)\n",
    "                normalized_file_path = os.path.splitext(file_path)[0] + \"_normalised.jpg\"\n",
    "                cv2.imwrite(normalized_file_path, normalized_image)\n",
    "                \n",
    "                # Horizontal flipping\n",
    "                flipped_image = cv2.flip(image, 1)\n",
    "                flipped_file_path = os.path.splitext(file_path)[0] + \"_flip.jpg\"\n",
    "                cv2.imwrite(flipped_file_path, flipped_image)"
   ]
  },
  {
   "cell_type": "code",
   "execution_count": 78,
   "metadata": {},
   "outputs": [],
   "source": [
    "width = 256\n",
    "height = 256\n",
    "\n",
    "augment_images_in_directory(directory)\n",
    "\n",
    "resize_images_in_directory(directory, width, height)\n",
    "\n",
    "\n"
   ]
  },
  {
   "cell_type": "code",
   "execution_count": 79,
   "metadata": {},
   "outputs": [],
   "source": [
    "remove_files_except_resized(directory)\n"
   ]
  },
  {
   "cell_type": "markdown",
   "metadata": {},
   "source": [
    "# Augmentation - 8x\n",
    "\n",
    "## Categories Eligible\n",
    "\n",
    "- hvac (both) [done]\n",
    "- clay-concrete-tile-roofing (both) \n",
    "- fiberglass-insulation (both) \n",
    "- pvc (both) \n",
    "- gutter-styles (both) \n",
    "- batt-insulation (both) \n",
    "- built-up-roofs (both) \n",
    "- plywood-osb (both) \n",
    "- residential-accessories (both) \n",
    "- foam-board-insulation (both) "
   ]
  },
  {
   "cell_type": "code",
   "execution_count": 81,
   "metadata": {},
   "outputs": [],
   "source": [
    "def augment_images_8x(input_dir, height, width):\n",
    "    if not os.path.exists(input_dir):\n",
    "        raise FileNotFoundError(f\"Input directory '{input_dir}' not found.\")\n",
    "\n",
    "    for root, dirs, files in os.walk(input_dir):\n",
    "        for file in files:\n",
    "            # Read the image\n",
    "            image = cv2.imread(os.path.join(root, file))\n",
    "\n",
    "            # Rescale the image\n",
    "            image = cv2.resize(image, (width, height))\n",
    "\n",
    "            # Rotation\n",
    "            for angle in [90, 180, 270]:\n",
    "                rotated_image = cv2.rotate(image, cv2.ROTATE_90_CLOCKWISE if angle == 90 else cv2.ROTATE_180 if angle == 180 else cv2.ROTATE_90_COUNTERCLOCKWISE)\n",
    "                cv2.imwrite(os.path.join(root, file + f\"_rotated_{angle}_augmented.jpg\"), rotated_image)\n",
    "\n",
    "            # Horizontal flipping\n",
    "            horizontal_flip = cv2.flip(image, 1)\n",
    "            cv2.imwrite(os.path.join(root, file + \"_flipped_horizontal_augmented.jpg\"), horizontal_flip)\n",
    "\n",
    "            # Vertical flipping\n",
    "            vertical_flip = cv2.flip(image, 0)\n",
    "            cv2.imwrite(os.path.join(root, file + \"_flipped_vertical_augmented.jpg\"), vertical_flip)\n",
    "\n",
    "            # Translation\n",
    "            rows, cols, _ = image.shape\n",
    "            M = np.float32([[1, 0, 50], [0, 1, 50]])  # Example translation matrix\n",
    "            translated_image = cv2.warpAffine(image, M, (cols, rows))\n",
    "            cv2.imwrite(os.path.join(root, file + \"_translated_augmented.jpg\"), translated_image)\n",
    "\n",
    "            # Noise addition\n",
    "            noise = np.random.normal(0, 25, (height, width, 3)).astype(np.uint8)\n",
    "            noisy_image = cv2.add(image, noise)\n",
    "            cv2.imwrite(os.path.join(root, file + \"_noisy_augmented.jpg\"), noisy_image)\n",
    "\n",
    "            # Blur\n",
    "            blurred_image = cv2.GaussianBlur(image, (5, 5), 0)\n",
    "            cv2.imwrite(os.path.join(root, file + \"_blurred_augmented.jpg\"), blurred_image)\n",
    "\n",
    "            # # Color Jittering\n",
    "            # hsv_image = cv2.cvtColor(image, cv2.COLOR_BGR2HSV)\n",
    "            # h, s, v = cv2.split(hsv_image)\n",
    "            # s = s * 0.5\n",
    "            # v = v * 1.5\n",
    "            # jittered_image = cv2.merge([h, s, v])\n",
    "            # jittered_image = cv2.cvtColor(jittered_image, cv2.COLOR_HSV2BGR)\n",
    "            # cv2.imwrite(os.path.join(root, file + \"_jittered\"), jittered_image)\n"
   ]
  },
  {
   "cell_type": "code",
   "execution_count": 93,
   "metadata": {},
   "outputs": [],
   "source": [
    "input_directory = r\"C:\\Users\\kshubhan\\Downloads\\Proxzar-CV-work-updated\\Proxzar-CV-work-main\\scraped_zip\\roofing\\residential-accessories\"\n",
    "height = 256\n",
    "width = 256\n",
    "\n",
    "augment_images_8x(input_directory, height, width)"
   ]
  },
  {
   "cell_type": "code",
   "execution_count": 64,
   "metadata": {},
   "outputs": [],
   "source": [
    "def remove_images_with_prefix(directory, prefix):\n",
    "    for root, dirs, files in os.walk(directory):\n",
    "        for file in files:\n",
    "            if file.startswith(prefix):\n",
    "                file_path = os.path.join(root, file)\n",
    "                os.remove(file_path)\n",
    "\n",
    "# Example usage:\n",
    "directory = r\"C:\\Users\\kshubhan\\Downloads\\Beacon-new\\becnprods4-products-images-new\\building-materials\\hvac\"\n",
    "prefixes = [\"blurred_\", \"flipped_\", \"noisy_\", \"rotated_\", \"translated_\"]\n",
    "\n",
    "for prefix in prefixes:\n",
    "    remove_images_with_prefix(directory, prefix)\n"
   ]
  },
  {
   "cell_type": "code",
   "execution_count": 94,
   "metadata": {},
   "outputs": [],
   "source": [
    "import os\n",
    "\n",
    "def remove_non_jpg_files(directory):\n",
    "    for root, dirs, files in os.walk(directory):\n",
    "        for file in files:\n",
    "            if not file.endswith((\"_augmented.jpg\", \"_resized.jpg\")):\n",
    "                file_path = os.path.join(root, file)\n",
    "                os.remove(file_path)\n",
    "\n",
    "# Example usage:\n",
    "directory = r\"C:\\Users\\kshubhan\\Downloads\\Beacon-new\\New-final-folder-for-classification\"\n",
    "remove_non_jpg_files(directory)\n"
   ]
  },
  {
   "cell_type": "code",
   "execution_count": null,
   "metadata": {},
   "outputs": [],
   "source": [
    "delete_empty_folders(directory)"
   ]
  },
  {
   "cell_type": "code",
   "execution_count": 6,
   "metadata": {},
   "outputs": [],
   "source": [
    "import os\n",
    "import shutil\n",
    "\n",
    "def move_jpg_files_to_parent_directory(directory):\n",
    "    for root, dirs, files in os.walk(directory):\n",
    "        for file in files:\n",
    "            if file.endswith(\".jpg\"):\n",
    "                file_path = os.path.join(root, file)\n",
    "                new_file_path = os.path.join(directory, file)\n",
    "                shutil.move(file_path, new_file_path)\n",
    "\n",
    "# Example usage:\n",
    "directory = r\"C:\\Users\\kshubhan\\Downloads\\Beacon-new\\New-final-folder-for-classification\"\n",
    "move_jpg_files_to_parent_directory(directory)\n"
   ]
  },
  {
   "cell_type": "code",
   "execution_count": 2,
   "metadata": {},
   "outputs": [
    {
     "ename": "KeyboardInterrupt",
     "evalue": "",
     "output_type": "error",
     "traceback": [
      "\u001b[1;31m---------------------------------------------------------------------------\u001b[0m",
      "\u001b[1;31mKeyboardInterrupt\u001b[0m                         Traceback (most recent call last)",
      "Cell \u001b[1;32mIn[2], line 17\u001b[0m\n\u001b[0;32m     15\u001b[0m \u001b[38;5;66;03m# Example usage:\u001b[39;00m\n\u001b[0;32m     16\u001b[0m directory \u001b[38;5;241m=\u001b[39m \u001b[38;5;124mr\u001b[39m\u001b[38;5;124m\"\u001b[39m\u001b[38;5;124mC:\u001b[39m\u001b[38;5;124m\\\u001b[39m\u001b[38;5;124mUsers\u001b[39m\u001b[38;5;124m\\\u001b[39m\u001b[38;5;124mkshubhan\u001b[39m\u001b[38;5;124m\\\u001b[39m\u001b[38;5;124mDownloads\u001b[39m\u001b[38;5;124m\\\u001b[39m\u001b[38;5;124mBeacon-new\u001b[39m\u001b[38;5;124m\\\u001b[39m\u001b[38;5;124mNew-final-folder-for-classification\u001b[39m\u001b[38;5;124m\"\u001b[39m\n\u001b[1;32m---> 17\u001b[0m \u001b[43mmove_images_to_subfolders\u001b[49m\u001b[43m(\u001b[49m\u001b[43mdirectory\u001b[49m\u001b[43m)\u001b[49m\n",
      "Cell \u001b[1;32mIn[2], line 13\u001b[0m, in \u001b[0;36mmove_images_to_subfolders\u001b[1;34m(directory)\u001b[0m\n\u001b[0;32m     11\u001b[0m os\u001b[38;5;241m.\u001b[39mmakedirs(subfolder_path, exist_ok\u001b[38;5;241m=\u001b[39m\u001b[38;5;28;01mTrue\u001b[39;00m)  \u001b[38;5;66;03m# Create subfolder if it doesn't exist\u001b[39;00m\n\u001b[0;32m     12\u001b[0m new_file_path \u001b[38;5;241m=\u001b[39m os\u001b[38;5;241m.\u001b[39mpath\u001b[38;5;241m.\u001b[39mjoin(subfolder_path, file)\n\u001b[1;32m---> 13\u001b[0m \u001b[43mshutil\u001b[49m\u001b[38;5;241;43m.\u001b[39;49m\u001b[43mmove\u001b[49m\u001b[43m(\u001b[49m\u001b[43mfile_path\u001b[49m\u001b[43m,\u001b[49m\u001b[43m \u001b[49m\u001b[43mnew_file_path\u001b[49m\u001b[43m)\u001b[49m\n",
      "File \u001b[1;32mc:\\ProgramData\\anaconda3\\envs\\FactorizedQG\\lib\\shutil.py:816\u001b[0m, in \u001b[0;36mmove\u001b[1;34m(src, dst, copy_function)\u001b[0m\n\u001b[0;32m    814\u001b[0m         \u001b[38;5;28;01mraise\u001b[39;00m Error(\u001b[38;5;124m\"\u001b[39m\u001b[38;5;124mDestination path \u001b[39m\u001b[38;5;124m'\u001b[39m\u001b[38;5;132;01m%s\u001b[39;00m\u001b[38;5;124m'\u001b[39m\u001b[38;5;124m already exists\u001b[39m\u001b[38;5;124m\"\u001b[39m \u001b[38;5;241m%\u001b[39m real_dst)\n\u001b[0;32m    815\u001b[0m \u001b[38;5;28;01mtry\u001b[39;00m:\n\u001b[1;32m--> 816\u001b[0m     \u001b[43mos\u001b[49m\u001b[38;5;241;43m.\u001b[39;49m\u001b[43mrename\u001b[49m\u001b[43m(\u001b[49m\u001b[43msrc\u001b[49m\u001b[43m,\u001b[49m\u001b[43m \u001b[49m\u001b[43mreal_dst\u001b[49m\u001b[43m)\u001b[49m\n\u001b[0;32m    817\u001b[0m \u001b[38;5;28;01mexcept\u001b[39;00m \u001b[38;5;167;01mOSError\u001b[39;00m:\n\u001b[0;32m    818\u001b[0m     \u001b[38;5;28;01mif\u001b[39;00m os\u001b[38;5;241m.\u001b[39mpath\u001b[38;5;241m.\u001b[39mislink(src):\n",
      "\u001b[1;31mKeyboardInterrupt\u001b[0m: "
     ]
    }
   ],
   "source": [
    "# import os\n",
    "# import shutil\n",
    "\n",
    "# def move_images_to_subfolders(directory):\n",
    "#     for root, dirs, files in os.walk(directory):\n",
    "#         for file in files:\n",
    "#             if file.endswith(\".jpg\"):\n",
    "#                 file_path = os.path.join(root, file)\n",
    "#                 image_name = file.split(\"_\", 2)[0]  # Get the image name till the first 2 \"_\"\n",
    "#                 subfolder_path = os.path.join(root, image_name)\n",
    "#                 os.makedirs(subfolder_path, exist_ok=True)  # Create subfolder if it doesn't exist\n",
    "#                 new_file_path = os.path.join(subfolder_path, file)\n",
    "#                 shutil.move(file_path, new_file_path)\n",
    "\n",
    "# # Example usage:\n",
    "# directory = r\"C:\\Users\\kshubhan\\Downloads\\Beacon-new\\New-final-folder-for-classification\"\n",
    "# move_images_to_subfolders(directory)\n"
   ]
  },
  {
   "cell_type": "code",
   "execution_count": 3,
   "metadata": {},
   "outputs": [],
   "source": [
    "import os\n",
    "import shutil\n",
    "\n",
    "def organize_files_into_subcategories(directory):\n",
    "    for root, dirs, files in os.walk(directory):\n",
    "        for file in files:\n",
    "            if file.endswith(\".jpg\"):\n",
    "                file_path = os.path.join(root, file)\n",
    "                category_name, subcategory_name, _ = file.split(\"_\", 2)\n",
    "                subcategory_path = os.path.join(root, category_name, subcategory_name)\n",
    "                os.makedirs(subcategory_path, exist_ok=True)\n",
    "                new_file_path = os.path.join(subcategory_path, file)\n",
    "                shutil.move(file_path, new_file_path)\n",
    "\n",
    "# Example usage:\n",
    "directory = r\"C:\\Users\\kshubhan\\Downloads\\Beacon-new\\New-final-folder-for-classification\"\n",
    "organize_files_into_subcategories(directory)\n"
   ]
  },
  {
   "cell_type": "markdown",
   "metadata": {},
   "source": [
    "# IGNORE THE ABOVE (FOR NOW)"
   ]
  },
  {
   "cell_type": "code",
   "execution_count": 95,
   "metadata": {},
   "outputs": [],
   "source": [
    "# import os\n",
    "\n",
    "# def delete_empty_folders(directory):\n",
    "#     for root, dirs, files in os.walk(directory, topdown=False):\n",
    "#         for dir in dirs:\n",
    "#             dir_path = os.path.join(root, dir)\n",
    "#             if not os.listdir(dir_path):\n",
    "#                 os.rmdir(dir_path)\n",
    "\n"
   ]
  },
  {
   "cell_type": "code",
   "execution_count": 54,
   "metadata": {},
   "outputs": [],
   "source": [
    "# target_directory = r\"C:\\Users\\kshubhan\\Downloads\\Proxzar-CV-work-updated\\Proxzar-CV-work-main\\scraped_zip\\roofing\\residential-accessories\"\n",
    "# move_jpg_files_to_parent_directory(target_directory)\n",
    "# delete_empty_folders(target_directory)\n",
    "\n",
    "# immediate_folder_name = os.path.basename(target_directory)\n",
    "\n",
    "# for root, dirs, files in os.walk(target_directory):\n",
    "#     for file in files:\n",
    "#         file_path = os.path.join(root, file)\n",
    "#         new_file_name = os.path.join(root, immediate_folder_name + \"_\" + file)\n",
    "#         os.rename(file_path, new_file_name)"
   ]
  },
  {
   "cell_type": "code",
   "execution_count": 2,
   "metadata": {},
   "outputs": [],
   "source": [
    "# import os\n",
    "\n",
    "# def remove_files_not_starting_with_prefixes(directory, prefixes):\n",
    "#     for root, dirs, files in os.walk(directory):\n",
    "#         for file in files:\n",
    "#             if not file.startswith(tuple(prefixes)):\n",
    "#                 file_path = os.path.join(root, file)\n",
    "#                 os.remove(file_path)\n",
    "\n",
    "# directory = r\"C:\\Users\\kshubhan\\Downloads\\Beacon-new\\New-final-folder-for-classification\"\n",
    "\n",
    "# prefixes = [\"building-materials\", \"gutters\", \"insulation\", \"roofing\", \"siding\", \"tools-equipment\", \"waterproofing\"]\n",
    "# remove_files_not_starting_with_prefixes(directory, prefixes)\n"
   ]
  },
  {
   "cell_type": "code",
   "execution_count": 7,
   "metadata": {},
   "outputs": [],
   "source": [
    "import os\n",
    "\n",
    "def add_prefix_to_files(directory, prefix):\n",
    "    for root, dirs, files in os.walk(directory):\n",
    "        for file in files:\n",
    "            file_path = os.path.join(root, file)\n",
    "            new_file_name = os.path.join(root, prefix + file)\n",
    "            os.rename(file_path, new_file_name)\n",
    "\n",
    "# Example usage:\n",
    "directory = r\"C:\\Users\\kshubhan\\Downloads\\Proxzar-CV-work-updated\\Proxzar-CV-work-main\\scraped_zip\\gutters\"\n",
    "prefix = \"gutters_\"\n",
    "add_prefix_to_files(directory, prefix)\n"
   ]
  },
  {
   "cell_type": "code",
   "execution_count": null,
   "metadata": {},
   "outputs": [],
   "source": []
  }
 ],
 "metadata": {
  "kernelspec": {
   "display_name": "FactorizedQG",
   "language": "python",
   "name": "python3"
  },
  "language_info": {
   "codemirror_mode": {
    "name": "ipython",
    "version": 3
   },
   "file_extension": ".py",
   "mimetype": "text/x-python",
   "name": "python",
   "nbconvert_exporter": "python",
   "pygments_lexer": "ipython3",
   "version": "3.10.13"
  }
 },
 "nbformat": 4,
 "nbformat_minor": 2
}
