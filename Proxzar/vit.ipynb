{
 "cells": [
  {
   "cell_type": "code",
   "execution_count": 6,
   "metadata": {},
   "outputs": [],
   "source": [
    "import os\n",
    "os.environ['TF_CPP_MIN_LOG_LEVEL'] = '2'\n",
    "\n",
    "import tensorflow as tf\n",
    "import numpy as np\n",
    "import matplotlib.pyplot as plt\n",
    "from tensorflow.keras.layers import *\n",
    "from tensorflow.keras.models import Model"
   ]
  },
  {
   "cell_type": "code",
   "execution_count": 26,
   "metadata": {},
   "outputs": [],
   "source": [
    "class ClassToken(Layer):\n",
    "    def __init__(self, **kwargs):\n",
    "        super().__init__()\n",
    "\n",
    "    def build(self, input_shape):\n",
    "        w_init = tf.random_normal_initializer()\n",
    "        self.w = tf.Variable(\n",
    "            initial_value=w_init(shape=(1, 1, input_shape[-1]), dtype=tf.float32),\n",
    "            trainable=True,\n",
    "        )\n",
    "\n",
    "    def call(self, inputs):\n",
    "        batch_size = tf.shape(inputs)[0]\n",
    "        hidden_dim = self.w.shape[-1]\n",
    "\n",
    "        cls = tf.broadcast_to(self.w, [batch_size, 1, hidden_dim])\n",
    "        cls = tf.cast(cls, dtype=inputs.dtype)\n",
    "        return cls\n"
   ]
  },
  {
   "cell_type": "code",
   "execution_count": 27,
   "metadata": {},
   "outputs": [],
   "source": [
    "def mlp(x, cf):\n",
    "    x = Dense(cf['mlp_dim'], activation=\"gelu\")(x)\n",
    "    x = Dropout(cf['dropout_rate'])(x)\n",
    "    x = Dense(cf['hidden_dim'])(x)\n",
    "    x = Dropout(cf['dropout_rate'])(x)\n",
    "    return x\n"
   ]
  },
  {
   "cell_type": "code",
   "execution_count": 31,
   "metadata": {},
   "outputs": [],
   "source": [
    "def transformer_encoder(x, cf):\n",
    "    skip_1 = x\n",
    "    x = LayerNormalization()(x)\n",
    "    x = MultiHeadAttention(cf['num_heads'], key_dim=cf['hidden_dim'])(x,x)\n",
    "    x = Add()([ x, skip_1])\n",
    "\n",
    "    skip_2 = x\n",
    "    x = LayerNormalization()(x)\n",
    "    x = mlp(x,cf)\n",
    "    x = Add()([x, skip_2])\n",
    "\n",
    "    return x\n"
   ]
  },
  {
   "cell_type": "code",
   "execution_count": 32,
   "metadata": {},
   "outputs": [],
   "source": [
    "def ViT(cf):\n",
    "    # Inputs\n",
    "    input_shape = (cf[\"num_patches\"],cf[\"patch_size\"]*cf[\"patch_size\"]*cf[\"num_channels\"])\n",
    "    inputs = Input(input_shape)\n",
    "    # print(inputs)\n",
    "\n",
    "    #  Patch Embedding and Positional Embedding\n",
    "    patch_embed = Dense(cf[\"hidden_dim\"])(inputs)\n",
    "    # print(patch_embed)\n",
    "    positions = tf.range(start=0, limit=cf[\"num_patches\"], delta=1)\n",
    "    pos_embed = Embedding(input_dim=cf[\"num_patches\"], output_dim=cf[\"hidden_dim\"])(positions)\n",
    "    # print(pos_embed.shape)\n",
    "    embed = patch_embed + pos_embed # the input to the ViT is a sum of patch embedding and positional embedding\n",
    "    # print(embed.shape)\n",
    "\n",
    "    # Adding class token\n",
    "    token = ClassToken()(embed)\n",
    "    x = Concatenate(axis=1)([token, embed])\n",
    "    # print(x.shape)\n",
    "    \n",
    "    for _ in range(cf[\"num_layers\"]):\n",
    "        x = transformer_encoder(x, cf)\n",
    "    # print(x.shape) ## output of the entire encoder block\n",
    "    \n",
    "    \n",
    "    \"\"\"Classfication Head\"\"\"\n"
   ]
  },
  {
   "cell_type": "code",
   "execution_count": 33,
   "metadata": {},
   "outputs": [
    {
     "name": "stdout",
     "output_type": "stream",
     "text": [
      "(None, 257, 768)\n"
     ]
    }
   ],
   "source": [
    "if __name__ == \"__main__\":\n",
    "    config={}\n",
    "    config['num_layers'] = 12\n",
    "    config['num_heads'] = 12\n",
    "    config['hidden_dim'] = 768\n",
    "    config['dropout_rate'] = 0.1\n",
    "    config['mlp_dim'] = 3072\n",
    "    config[\"num_patches\"] = 256\n",
    "    config[\"patch_size\"] = 32\n",
    "    config[\"num_channels\"] = 3\n",
    "    \n",
    "    ViT(config)"
   ]
  },
  {
   "cell_type": "code",
   "execution_count": null,
   "metadata": {},
   "outputs": [],
   "source": []
  }
 ],
 "metadata": {
  "kernelspec": {
   "display_name": "mlstuff",
   "language": "python",
   "name": "python3"
  },
  "language_info": {
   "codemirror_mode": {
    "name": "ipython",
    "version": 3
   },
   "file_extension": ".py",
   "mimetype": "text/x-python",
   "name": "python",
   "nbconvert_exporter": "python",
   "pygments_lexer": "ipython3",
   "version": "3.8.0"
  }
 },
 "nbformat": 4,
 "nbformat_minor": 2
}
