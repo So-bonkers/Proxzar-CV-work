{
 "cells": [
  {
   "cell_type": "code",
   "execution_count": 31,
   "metadata": {},
   "outputs": [],
   "source": [
    "import torch\n",
    "from torchvision.models import resnet50\n",
    "import numpy as np\n",
    "import os\n",
    "from concurrent.futures import ThreadPoolExecutor, as_completed\n",
    "from tqdm import tqdm  # Import tqdm for progress bar"
   ]
  },
  {
   "cell_type": "code",
   "execution_count": 32,
   "metadata": {},
   "outputs": [],
   "source": [
    "# Load pre-trained ResNet50\n",
    "resnet = resnet50(pretrained=True)"
   ]
  },
  {
   "cell_type": "code",
   "execution_count": 33,
   "metadata": {},
   "outputs": [],
   "source": [
    "def process_image(image_path):\n",
    "    preprocessed_data = np.load(image_path)\n",
    "    tokenized_image = torch.tensor(preprocessed_data)  # Convert NumPy array to PyTorch tensor\n",
    "    return tokenized_image\n"
   ]
  },
  {
   "cell_type": "code",
   "execution_count": 34,
   "metadata": {},
   "outputs": [],
   "source": [
    "# Update the paths to the directory containing preprocessed images and tokenized images\n",
    "preprocessed_images_dir = \"/home/sklaptop/Downloads/OneDrive_2023-12-18/P25 - Visual Search/Split_Folder_5\"\n",
    "tokenized_images_dir = \"/home/sklaptop/Downloads/OneDrive_2023-12-18/P25 - Visual Search/tokenized_images\""
   ]
  },
  {
   "cell_type": "code",
   "execution_count": 35,
   "metadata": {},
   "outputs": [],
   "source": [
    "# Get a list of all the preprocessed image files in the directory\n",
    "image_files = [file for file in os.listdir(preprocessed_images_dir) if file.endswith('.npy')]"
   ]
  },
  {
   "cell_type": "code",
   "execution_count": 36,
   "metadata": {},
   "outputs": [
    {
     "name": "stderr",
     "output_type": "stream",
     "text": [
      "Tokenizing Images: 100%|██████████| 5896/5896 [00:08<00:00, 722.82it/s]\n"
     ]
    }
   ],
   "source": [
    "# Process images using ThreadPoolExecutor with tqdm progress bar\n",
    "with ThreadPoolExecutor() as executor:\n",
    "    future_to_image = {executor.submit(process_image, os.path.join(preprocessed_images_dir, file)): file for file in image_files}\n",
    "    for future in tqdm(as_completed(future_to_image), total=len(image_files), desc=\"Tokenizing Images\"):\n",
    "        image_path = future_to_image[future]\n",
    "        tokenized_image = future.result()\n",
    "        \n",
    "        # Extract modified filename without prefix and save the tokenized image\n",
    "        filename_without_prefix = image_path.replace('preprocessed_single_image_', '')  # Modify this line according to the prefix used\n",
    "        tokenized_file_path = os.path.join(tokenized_images_dir, f\"tokenized_images_{filename_without_prefix}\")\n",
    "        torch.save(tokenized_image, tokenized_file_path)"
   ]
  },
  {
   "cell_type": "code",
   "execution_count": null,
   "metadata": {},
   "outputs": [],
   "source": []
  }
 ],
 "metadata": {
  "kernelspec": {
   "display_name": "mlstuff",
   "language": "python",
   "name": "python3"
  },
  "language_info": {
   "codemirror_mode": {
    "name": "ipython",
    "version": 3
   },
   "file_extension": ".py",
   "mimetype": "text/x-python",
   "name": "python",
   "nbconvert_exporter": "python",
   "pygments_lexer": "ipython3",
   "version": "3.10.13"
  }
 },
 "nbformat": 4,
 "nbformat_minor": 2
}
