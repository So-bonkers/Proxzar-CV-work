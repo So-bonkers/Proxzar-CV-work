{
 "cells": [
  {
   "cell_type": "code",
   "execution_count": 38,
   "metadata": {},
   "outputs": [],
   "source": [
    "import os\n",
    "import re\n",
    "import cv2\n",
    "import numpy as np"
   ]
  },
  {
   "cell_type": "code",
   "execution_count": 5,
   "metadata": {},
   "outputs": [],
   "source": [
    "def remove_files_with_regex(path, regex_pattern):\n",
    "    for root, dirs, files in os.walk(path):\n",
    "        for file in files:\n",
    "            if re.search(regex_pattern, file):\n",
    "                file_path = os.path.join(root, file)\n",
    "                os.remove(file_path)\n",
    "\n",
    "# Example usage\n",
    "path = r'C:\\Users\\kshubhan\\Downloads\\Proxzar-CV-work-updated\\Proxzar-CV-work-main\\scraped_zip\\Scrape_images_removed_products\\roofing\\flashings'\n",
    "regex_pattern = r'_image_(1[0-9]|0?[6-9]).jpg'\n",
    "remove_files_with_regex(path, regex_pattern)\n"
   ]
  },
  {
   "cell_type": "markdown",
   "metadata": {},
   "source": [
    "# Augmentation - 2x\n",
    "\n",
    "## Categories Eligible\n",
    "\n",
    "- commercial-insulation (scraped)\n",
    "- low-slope-metals (scraped)"
   ]
  },
  {
   "cell_type": "code",
   "execution_count": 25,
   "metadata": {},
   "outputs": [],
   "source": [
    "import os\n",
    "import cv2\n",
    "\n",
    "def normalize_images_in_directory(directory):\n",
    "    for root, dirs, files in os.walk(directory):\n",
    "        for file in files:\n",
    "            if file.endswith(\".jpg\"):\n",
    "                file_path = os.path.join(root, file)\n",
    "                image = cv2.imread(file_path)\n",
    "                normalized_image = cv2.normalize(image, None, alpha=0, beta=255, norm_type=cv2.NORM_MINMAX)\n",
    "                normalized_file_path = os.path.splitext(file_path)[0] + \"_normalized.jpg\"\n",
    "                cv2.imwrite(normalized_file_path, normalized_image)\n",
    "\n",
    "normalize_images_in_directory(directory)"
   ]
  },
  {
   "cell_type": "code",
   "execution_count": 11,
   "metadata": {},
   "outputs": [],
   "source": [
    "directory = r'C:\\Users\\kshubhan\\Downloads\\Proxzar-CV-work-updated\\Proxzar-CV-work-main\\scraped_zip\\Scrape_images_removed_products\\roofing\\commercial-insulation'"
   ]
  },
  {
   "cell_type": "code",
   "execution_count": 30,
   "metadata": {},
   "outputs": [],
   "source": [
    "def resize_images_in_directory(directory, width, height):\n",
    "    for root, dirs, files in os.walk(directory):\n",
    "        for file in files:\n",
    "            if file.endswith(\".jpg\"):\n",
    "                file_path = os.path.join(root, file)\n",
    "                image = cv2.imread(file_path)\n",
    "                resized_image = cv2.resize(image, (width, height))\n",
    "                resized_file_path = os.path.splitext(file_path)[0] + \"_resized.jpg\"\n",
    "                cv2.imwrite(resized_file_path, resized_image)\n",
    "\n"
   ]
  },
  {
   "cell_type": "markdown",
   "metadata": {},
   "source": [
    "# Augmentation - 3x\n",
    "\n",
    "## Categories Eligible\n",
    "\n",
    "- commercial-accessories(original) [done]\n",
    "- flashings (original) [done]\n",
    "- skylights-windows (scraped) [done]\n",
    "- spray-foam-insulation (scraped) [done]"
   ]
  },
  {
   "cell_type": "code",
   "execution_count": 33,
   "metadata": {},
   "outputs": [],
   "source": [
    "directory = r'C:\\Users\\kshubhan\\Downloads\\Beacon-new\\becnprods4-products-images-new\\roofing\\commercial-accessories'"
   ]
  },
  {
   "cell_type": "code",
   "execution_count": 34,
   "metadata": {},
   "outputs": [],
   "source": [
    "def remove_files_except_resized(target_directory):\n",
    "    for root, dirs, files in os.walk(target_directory):\n",
    "        for file in files:\n",
    "            if not file.endswith(\"_resized.jpg\"):\n",
    "                file_path = os.path.join(root, file)\n",
    "                os.remove(file_path)"
   ]
  },
  {
   "cell_type": "code",
   "execution_count": 35,
   "metadata": {},
   "outputs": [],
   "source": [
    "def augment_images_in_directory(directory):\n",
    "    for root, dirs, files in os.walk(directory):\n",
    "        for file in files:\n",
    "            if file.endswith(\".jpg\"):\n",
    "                file_path = os.path.join(root, file)\n",
    "                image = cv2.imread(file_path)\n",
    "                \n",
    "                # Normalization\n",
    "                normalized_image = cv2.normalize(image, None, alpha=0, beta=255, norm_type=cv2.NORM_MINMAX)\n",
    "                normalized_file_path = os.path.splitext(file_path)[0] + \"_normalised.jpg\"\n",
    "                cv2.imwrite(normalized_file_path, normalized_image)\n",
    "                \n",
    "                # Horizontal flipping\n",
    "                flipped_image = cv2.flip(image, 1)\n",
    "                flipped_file_path = os.path.splitext(file_path)[0] + \"_flip.jpg\"\n",
    "                cv2.imwrite(flipped_file_path, flipped_image)"
   ]
  },
  {
   "cell_type": "code",
   "execution_count": 36,
   "metadata": {},
   "outputs": [],
   "source": [
    "width = 256\n",
    "height = 256\n",
    "\n",
    "augment_images_in_directory(directory)\n",
    "\n",
    "resize_images_in_directory(directory, width, height)\n",
    "\n",
    "\n"
   ]
  },
  {
   "cell_type": "code",
   "execution_count": 37,
   "metadata": {},
   "outputs": [],
   "source": [
    "remove_files_except_resized(directory)\n"
   ]
  },
  {
   "cell_type": "markdown",
   "metadata": {},
   "source": [
    "# Augmentation - 8x\n",
    "\n",
    "## Categories Eligible\n",
    "\n",
    "- hvac (both) [done]\n",
    "- clay-concrete-tile-roofing (both) [done]\n",
    "- fiberglass-insulation (both) [done]\n",
    "- pvc (both) [done]\n",
    "- gutter-styles (both) [done]\n",
    "- batt-insulation (both) [done]\n",
    "- built-up-roofs (both) [done]\n",
    "- plywood-osb (both) [done]\n",
    "- residential-accessories (both) [done]\n",
    "- foam-board-insulation (both) [done]\n",
    "- liquid-asphalt-coatings (original) [done]\n",
    "- gutter-accessories (original) [done]\n",
    "- metal-roofing (original) [done]\n",
    "- residential-roofing (original) [done]\n",
    "- decking-railing (original) [done]\n",
    "- lumber-composites (original) [done]\n",
    "- hand-tools (original) [done]\n",
    "- nails-screws-fastener (original) [done]\n",
    "- trim (original) [done]\n",
    "- work-wear-safety-gear (original) [done]\n",
    "- stone-venner (original) [done]\n",
    "- vinyl-siding (original) [done]\n",
    "- power-tools (original) [done]"
   ]
  },
  {
   "cell_type": "code",
   "execution_count": 58,
   "metadata": {},
   "outputs": [],
   "source": [
    "def augment_images_8x(input_dir, height, width):\n",
    "    if not os.path.exists(input_dir):\n",
    "        raise FileNotFoundError(f\"Input directory '{input_dir}' not found.\")\n",
    "\n",
    "    for root, dirs, files in os.walk(input_dir):\n",
    "        for file in files:\n",
    "            # Read the image\n",
    "            image = cv2.imread(os.path.join(root, file))\n",
    "\n",
    "            # Rescale the image\n",
    "            image = cv2.resize(image, (width, height))\n",
    "\n",
    "            # Rotation\n",
    "            for angle in [90, 180, 270]:\n",
    "                rotated_image = cv2.rotate(image, cv2.ROTATE_90_CLOCKWISE if angle == 90 else cv2.ROTATE_180 if angle == 180 else cv2.ROTATE_90_COUNTERCLOCKWISE)\n",
    "                cv2.imwrite(os.path.join(root, file + f\"_rotated_{angle}_augmented.jpg\"), rotated_image)\n",
    "\n",
    "            # Horizontal flipping\n",
    "            horizontal_flip = cv2.flip(image, 1)\n",
    "            cv2.imwrite(os.path.join(root, file + \"_flipped_horizontal_augmented.jpg\"), horizontal_flip)\n",
    "\n",
    "            # Vertical flipping\n",
    "            vertical_flip = cv2.flip(image, 0)\n",
    "            cv2.imwrite(os.path.join(root, file + \"_flipped_vertical_augmented.jpg\"), vertical_flip)\n",
    "\n",
    "            # Translation\n",
    "            rows, cols, _ = image.shape\n",
    "            M = np.float32([[1, 0, 50], [0, 1, 50]])  # Example translation matrix\n",
    "            translated_image = cv2.warpAffine(image, M, (cols, rows))\n",
    "            cv2.imwrite(os.path.join(root, file + \"_translated_augmented.jpg\"), translated_image)\n",
    "\n",
    "            # Noise addition\n",
    "            noise = np.random.normal(0, 25, (height, width, 3)).astype(np.uint8)\n",
    "            noisy_image = cv2.add(image, noise)\n",
    "            cv2.imwrite(os.path.join(root, file + \"_noisy_augmented.jpg\"), noisy_image)\n",
    "\n",
    "            # Blur\n",
    "            blurred_image = cv2.GaussianBlur(image, (5, 5), 0)\n",
    "            cv2.imwrite(os.path.join(root, file + \"_blurred_augmented.jpg\"), blurred_image)\n",
    "\n",
    "            # # Color Jittering\n",
    "            # hsv_image = cv2.cvtColor(image, cv2.COLOR_BGR2HSV)\n",
    "            # h, s, v = cv2.split(hsv_image)\n",
    "            # s = s * 0.5\n",
    "            # v = v * 1.5\n",
    "            # jittered_image = cv2.merge([h, s, v])\n",
    "            # jittered_image = cv2.cvtColor(jittered_image, cv2.COLOR_HSV2BGR)\n",
    "            # cv2.imwrite(os.path.join(root, file + \"_jittered\"), jittered_image)\n"
   ]
  },
  {
   "cell_type": "code",
   "execution_count": 98,
   "metadata": {},
   "outputs": [],
   "source": [
    "input_directory = r\"C:\\Users\\kshubhan\\Downloads\\Beacon-new\\becnprods4-products-images-new\\tools-equipment\\power-tools\"\n",
    "height = 256\n",
    "width = 256\n",
    "\n",
    "augment_images_8x(input_directory, height, width)"
   ]
  },
  {
   "cell_type": "code",
   "execution_count": 64,
   "metadata": {},
   "outputs": [],
   "source": [
    "def remove_images_with_prefix(directory, prefix):\n",
    "    for root, dirs, files in os.walk(directory):\n",
    "        for file in files:\n",
    "            if file.startswith(prefix):\n",
    "                file_path = os.path.join(root, file)\n",
    "                os.remove(file_path)\n",
    "\n",
    "# Example usage:\n",
    "directory = r\"C:\\Users\\kshubhan\\Downloads\\Beacon-new\\becnprods4-products-images-new\\building-materials\\hvac\"\n",
    "prefixes = [\"blurred_\", \"flipped_\", \"noisy_\", \"rotated_\", \"translated_\"]\n",
    "\n",
    "for prefix in prefixes:\n",
    "    remove_images_with_prefix(directory, prefix)\n"
   ]
  },
  {
   "cell_type": "code",
   "execution_count": 90,
   "metadata": {},
   "outputs": [],
   "source": [
    "import os\n",
    "\n",
    "def remove_non_jpg_files(directory):\n",
    "    for root, dirs, files in os.walk(directory):\n",
    "        for file in files:\n",
    "            if not file.endswith(\"_augmented.jpg\"):\n",
    "                file_path = os.path.join(root, file)\n",
    "                os.remove(file_path)\n",
    "\n",
    "# Example usage:\n",
    "directory = r\"C:\\Users\\kshubhan\\Downloads\\Proxzar-CV-work-updated\\Scrape_images_removed_products\\gutters\\gutter-accessories\"\n",
    "remove_non_jpg_files(directory)\n"
   ]
  },
  {
   "cell_type": "code",
   "execution_count": 99,
   "metadata": {},
   "outputs": [],
   "source": [
    "import os\n",
    "import shutil\n",
    "\n",
    "def move_jpg_files_to_parent_directory(directory):\n",
    "    for root, dirs, files in os.walk(directory):\n",
    "        for file in files:\n",
    "            if file.endswith(\".jpg\"):\n",
    "                file_path = os.path.join(root, file)\n",
    "                new_file_path = os.path.join(directory, file)\n",
    "                shutil.move(file_path, new_file_path)\n",
    "\n",
    "# Example usage:\n",
    "directory = r\"C:\\Users\\kshubhan\\Downloads\\Beacon-new\\New-final-folder-for-classification\"\n",
    "move_jpg_files_to_parent_directory(directory)\n"
   ]
  },
  {
   "cell_type": "code",
   "execution_count": null,
   "metadata": {},
   "outputs": [],
   "source": []
  }
 ],
 "metadata": {
  "kernelspec": {
   "display_name": "FactorizedQG",
   "language": "python",
   "name": "python3"
  },
  "language_info": {
   "codemirror_mode": {
    "name": "ipython",
    "version": 3
   },
   "file_extension": ".py",
   "mimetype": "text/x-python",
   "name": "python",
   "nbconvert_exporter": "python",
   "pygments_lexer": "ipython3",
   "version": "3.10.13"
  }
 },
 "nbformat": 4,
 "nbformat_minor": 2
}
