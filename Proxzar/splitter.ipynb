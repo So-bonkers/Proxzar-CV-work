{
 "cells": [
  {
   "cell_type": "code",
   "execution_count": 1,
   "metadata": {},
   "outputs": [],
   "source": [
    "import os\n",
    "import shutil\n",
    "\n",
    "# Path to the directory containing preprocessed single image tensors\n",
    "source_directory = \"/home/sklaptop/Downloads/OneDrive_2023-12-18/P25 - Visual Search/preprocessed_single_image_tensors\"\n",
    "\n",
    "# Number of folders to split into\n",
    "num_folders = 5\n",
    "\n",
    "# Create destination folders\n",
    "for i in range(num_folders):\n",
    "    folder_path = f\"/home/sklaptop/Downloads/OneDrive_2023-12-18/P25 - Visual Search/Split_Folder_{i+1}\"\n",
    "    os.makedirs(folder_path, exist_ok=True)\n",
    "\n",
    "# Get all the file names in the source directory\n",
    "file_names = os.listdir(source_directory)\n",
    "\n",
    "# Calculate number of files per folder\n",
    "files_per_folder = len(file_names) // num_folders\n",
    "remainder = len(file_names) % num_folders\n",
    "\n",
    "# Distribute files among folders\n",
    "start_idx = 0\n",
    "for i in range(num_folders):\n",
    "    if i < remainder:\n",
    "        end_idx = start_idx + files_per_folder + 1\n",
    "    else:\n",
    "        end_idx = start_idx + files_per_folder\n",
    "\n",
    "    selected_files = file_names[start_idx:end_idx]\n",
    "\n",
    "    for file_name in selected_files:\n",
    "        source_file_path = os.path.join(source_directory, file_name)\n",
    "        dest_folder = i + 1  # Folder numbering starts from 1\n",
    "        dest_file_path = f\"/home/sklaptop/Downloads/OneDrive_2023-12-18/P25 - Visual Search/Split_Folder_{dest_folder}/{file_name}\"\n",
    "        shutil.copyfile(source_file_path, dest_file_path)\n",
    "\n",
    "    start_idx = end_idx\n"
   ]
  },
  {
   "cell_type": "code",
   "execution_count": null,
   "metadata": {},
   "outputs": [],
   "source": []
  }
 ],
 "metadata": {
  "kernelspec": {
   "display_name": "mlstuff",
   "language": "python",
   "name": "python3"
  },
  "language_info": {
   "codemirror_mode": {
    "name": "ipython",
    "version": 3
   },
   "file_extension": ".py",
   "mimetype": "text/x-python",
   "name": "python",
   "nbconvert_exporter": "python",
   "pygments_lexer": "ipython3",
   "version": "3.10.13"
  }
 },
 "nbformat": 4,
 "nbformat_minor": 2
}
